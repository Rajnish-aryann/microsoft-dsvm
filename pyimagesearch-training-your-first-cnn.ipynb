{
 "cells": [
  {
   "cell_type": "markdown",
   "metadata": {},
   "source": [
    "**Title:** Training your first Convolutional Neural Network<br/>\n",
    "**Author:** Adrian Rosebrock, [PyImageSearch.com](https://www.pyimagesearch.com/)<br/>\n",
    "\n",
    "This tutorial is meant to be an *introduction* to image classification and deep learning using the [Microsoft Data Science Virtual Machine](https://azure.microsoft.com/en-us/services/virtual-machines/data-science-virtual-machines/). We will present all code necessary to run the example, but will only briefly discuss it.\n",
    "\n",
    "For an in-depth treatment of deep learning and Convolutional Neural Networks, please refer to [*Deep Learning for Computer Vision with Python*](https://www.pyimagesearch.com/deep-learning-computer-vision-python-book/).\n",
    "\n",
    "Let's go ahead and get started."
   ]
  },
  {
   "cell_type": "code",
   "execution_count": 20,
   "metadata": {
    "collapsed": true
   },
   "outputs": [],
   "source": [
    "# import the necessary packages\n",
    "from keras.models import Sequential\n",
    "from keras.layers.convolutional import Conv2D\n",
    "from keras.layers.convolutional import MaxPooling2D\n",
    "from keras.layers.core import Activation\n",
    "from keras.layers.core import Flatten\n",
    "from keras.layers.core import Dense\n",
    "from keras import backend as K\n",
    "\n",
    "class LeNet:\n",
    "\t@staticmethod\n",
    "\tdef build(width, height, depth, classes):\n",
    "\t\t# initialize the model\n",
    "\t\tmodel = Sequential()\n",
    "\t\tinputShape = (height, width, depth)\n",
    "\n",
    "\t\t# if we are using \"channels first\", update the input shape\n",
    "\t\tif K.image_data_format() == \"channels_first\":\n",
    "\t\t\tinputShape = (depth, height, width)\n",
    "            \n",
    "\t\t# first set of CONV => RELU => POOL layers\n",
    "\t\tmodel.add(Conv2D(20, (5, 5), padding=\"same\",\n",
    "\t\t\tinput_shape=inputShape))\n",
    "\t\tmodel.add(Activation(\"relu\"))\n",
    "\t\tmodel.add(MaxPooling2D(pool_size=(2, 2), strides=(2, 2)))\n",
    "        \n",
    "\t\t# second set of CONV => RELU => POOL layers\n",
    "\t\tmodel.add(Conv2D(50, (5, 5), padding=\"same\"))\n",
    "\t\tmodel.add(Activation(\"relu\"))\n",
    "\t\tmodel.add(MaxPooling2D(pool_size=(2, 2), strides=(2, 2)))\n",
    "        \n",
    "\t\t# first (and only) set of FC => RELU layers\n",
    "\t\tmodel.add(Flatten())\n",
    "\t\tmodel.add(Dense(500))\n",
    "\t\tmodel.add(Activation(\"relu\"))\n",
    "\n",
    "\t\t# softmax classifier\n",
    "\t\tmodel.add(Dense(classes))\n",
    "\t\tmodel.add(Activation(\"softmax\"))\n",
    "\n",
    "\t\t# return the constructed network architecture\n",
    "\t\treturn model"
   ]
  },
  {
   "cell_type": "markdown",
   "metadata": {},
   "source": [
    "The `LeNet` class will encapsulate our implementation. The `build` method will then handle constructing the CNN. We also take special care to define the `inputShape` based on whether we are using channels-last ordering (typically used with TensorFlow) or channels-first ordering (which Theano uses).\n",
    "\n",
    "We then define our first set of `CONV => RELU => POOL` layers. Here we learn 20 convolution filters, each of which are *5x5*. We then apply a ReLU activation followed by *2x2* max-pooling to reduce the spatial dimensions.\n",
    "\n",
    "A similar process is then used for our second set of `CONV => RELU => POOL` layers, this time learning 50 filters instead of 20.\n",
    "\n",
    "Our final layer set in the LeNet implementation handles flattening out the volume into a set of fully-connected layers and output predictions.\n",
    "\n",
    "Let's move on to training our network. First, let's handle our imports and download the MNIST dataset (a collection of 70,000 28x28 grayscale images):"
   ]
  },
  {
   "cell_type": "code",
   "execution_count": 21,
   "metadata": {},
   "outputs": [
    {
     "name": "stdout",
     "output_type": "stream",
     "text": [
      "[INFO] accessing MNIST...\n"
     ]
    }
   ],
   "source": [
    "# import the necessary packages\n",
    "from pyimagesearch.nn.conv import LeNet\n",
    "from keras.optimizers import SGD\n",
    "from sklearn.preprocessing import LabelBinarizer\n",
    "from sklearn.model_selection import train_test_split\n",
    "from sklearn.metrics import classification_report\n",
    "from sklearn import datasets\n",
    "from keras import backend as K\n",
    "import matplotlib.pyplot as plt\n",
    "import numpy as np\n",
    "\n",
    "# grab the MNIST dataset (if this is your first time using this\n",
    "# dataset then the 55MB download may take a minute)\n",
    "print(\"[INFO] accessing MNIST...\")\n",
    "dataset = datasets.fetch_mldata(\"MNIST Original\")\n",
    "data = dataset.data"
   ]
  },
  {
   "cell_type": "markdown",
   "metadata": {},
   "source": [
    "Our goal here is to train a Convolutional Neural Network that can recognize each of the handwritten digits, 0-9.\n",
    "\n",
    "We then need to reshape the `data` matrix based on whether we are using channels-last or channels first-ordering:"
   ]
  },
  {
   "cell_type": "code",
   "execution_count": 22,
   "metadata": {
    "collapsed": true
   },
   "outputs": [],
   "source": [
    "# if we are using \"channels first\" ordering, then reshape the\n",
    "# design matrix such that the matrix is:\n",
    "# num_samples x depth x rows x columns\n",
    "if K.image_data_format() == \"channels_first\":\n",
    "\tdata = data.reshape(data.shape[0], 1, 28, 28)\n",
    "\n",
    "# otherwise, we are using \"channels last\" ordering, so the design\n",
    "# matrix shape should be: num_samples x rows x columns x depth\n",
    "else:\n",
    "\tdata = data.reshape(data.shape[0], 28, 28, 1)"
   ]
  },
  {
   "cell_type": "markdown",
   "metadata": {},
   "source": [
    "Create the training and testing split:"
   ]
  },
  {
   "cell_type": "code",
   "execution_count": 23,
   "metadata": {
    "collapsed": true
   },
   "outputs": [],
   "source": [
    "# scale the input data to the range [0, 1] and perform a train/test\n",
    "# split\n",
    "(trainX, testX, trainY, testY) = train_test_split(data / 255.0,\n",
    "\tdataset.target.astype(\"int\"), test_size=0.25, random_state=42)"
   ]
  },
  {
   "cell_type": "markdown",
   "metadata": {},
   "source": [
    "And then binarize the labels:"
   ]
  },
  {
   "cell_type": "code",
   "execution_count": 24,
   "metadata": {
    "collapsed": true
   },
   "outputs": [],
   "source": [
    "# convert the labels from integers to vectors\n",
    "le = LabelBinarizer()\n",
    "trainY = le.fit_transform(trainY)\n",
    "testY = le.transform(testY)"
   ]
  },
  {
   "cell_type": "markdown",
   "metadata": {},
   "source": [
    "We are now ready to instantiate the `LeNet` class:"
   ]
  },
  {
   "cell_type": "code",
   "execution_count": 25,
   "metadata": {},
   "outputs": [
    {
     "name": "stdout",
     "output_type": "stream",
     "text": [
      "[INFO] compiling model...\n"
     ]
    }
   ],
   "source": [
    "# initialize the optimizer and model\n",
    "print(\"[INFO] compiling model...\")\n",
    "opt = SGD(lr=0.01)\n",
    "model = LeNet.build(width=28, height=28, depth=1, classes=10)\n",
    "model.compile(loss=\"categorical_crossentropy\", optimizer=opt,\n",
    "\tmetrics=[\"accuracy\"])"
   ]
  },
  {
   "cell_type": "markdown",
   "metadata": {},
   "source": [
    "Notice how the parameters to `LeNet.build` match the spatial dimensions of the images in the MNIST dataset.\n",
    "\n",
    "We'll be using the Stochastic Gradient Descent (SGD) optimizer for this task. Using `categorical_crossentropy` is common for multi-class classification problems.\n",
    "\n",
    "We can now train our network for 20 epochs using a batch size of 128:"
   ]
  },
  {
   "cell_type": "code",
   "execution_count": 26,
   "metadata": {},
   "outputs": [
    {
     "name": "stdout",
     "output_type": "stream",
     "text": [
      "[INFO] training network...\n",
      "Train on 52500 samples, validate on 17500 samples\n",
      "Epoch 1/20\n",
      "52500/52500 [==============================] - 44s 831us/step - loss: 1.1115 - acc: 0.7020 - val_loss: 0.4539 - val_acc: 0.8518\n",
      "Epoch 2/20\n",
      "52500/52500 [==============================] - 43s 818us/step - loss: 0.2842 - acc: 0.9160 - val_loss: 0.4501 - val_acc: 0.8493\n",
      "Epoch 3/20\n",
      "52500/52500 [==============================] - 43s 819us/step - loss: 0.1995 - acc: 0.9405 - val_loss: 0.1680 - val_acc: 0.9507\n",
      "Epoch 4/20\n",
      "52500/52500 [==============================] - 43s 823us/step - loss: 0.1564 - acc: 0.9531 - val_loss: 0.1717 - val_acc: 0.9467\n",
      "Epoch 5/20\n",
      "52500/52500 [==============================] - 43s 825us/step - loss: 0.1290 - acc: 0.9623 - val_loss: 0.1834 - val_acc: 0.9416\n",
      "Epoch 6/20\n",
      "52500/52500 [==============================] - 43s 824us/step - loss: 0.1115 - acc: 0.9668 - val_loss: 0.1236 - val_acc: 0.9630\n",
      "Epoch 7/20\n",
      "52500/52500 [==============================] - 43s 822us/step - loss: 0.0993 - acc: 0.9705 - val_loss: 0.2036 - val_acc: 0.9309\n",
      "Epoch 8/20\n",
      "52500/52500 [==============================] - 43s 826us/step - loss: 0.0884 - acc: 0.9736 - val_loss: 0.0922 - val_acc: 0.9723\n",
      "Epoch 9/20\n",
      "52500/52500 [==============================] - 43s 828us/step - loss: 0.0803 - acc: 0.9758 - val_loss: 0.0795 - val_acc: 0.9765\n",
      "Epoch 10/20\n",
      "52500/52500 [==============================] - 43s 828us/step - loss: 0.0734 - acc: 0.9776 - val_loss: 0.0764 - val_acc: 0.9774\n",
      "Epoch 11/20\n",
      "52500/52500 [==============================] - 44s 832us/step - loss: 0.0685 - acc: 0.9791 - val_loss: 0.0895 - val_acc: 0.9745\n",
      "Epoch 12/20\n",
      "52500/52500 [==============================] - 43s 823us/step - loss: 0.0643 - acc: 0.9802 - val_loss: 0.3554 - val_acc: 0.8865\n",
      "Epoch 13/20\n",
      "52500/52500 [==============================] - 44s 834us/step - loss: 0.0615 - acc: 0.9813 - val_loss: 0.2117 - val_acc: 0.9340\n",
      "Epoch 14/20\n",
      "52500/52500 [==============================] - 44s 832us/step - loss: 0.0566 - acc: 0.9828 - val_loss: 0.3532 - val_acc: 0.9003\n",
      "Epoch 15/20\n",
      "52500/52500 [==============================] - 44s 836us/step - loss: 0.0543 - acc: 0.9831 - val_loss: 0.0606 - val_acc: 0.9810\n",
      "Epoch 16/20\n",
      "52500/52500 [==============================] - 43s 825us/step - loss: 0.0510 - acc: 0.9842 - val_loss: 0.1751 - val_acc: 0.9431\n",
      "Epoch 17/20\n",
      "52500/52500 [==============================] - 44s 829us/step - loss: 0.0487 - acc: 0.9845 - val_loss: 0.0614 - val_acc: 0.9814\n",
      "Epoch 18/20\n",
      "52500/52500 [==============================] - 43s 827us/step - loss: 0.0462 - acc: 0.9856 - val_loss: 0.0630 - val_acc: 0.9804\n",
      "Epoch 19/20\n",
      "52500/52500 [==============================] - 43s 828us/step - loss: 0.0442 - acc: 0.9864 - val_loss: 0.0607 - val_acc: 0.9818\n",
      "Epoch 20/20\n",
      "52500/52500 [==============================] - 44s 830us/step - loss: 0.0426 - acc: 0.9866 - val_loss: 0.0554 - val_acc: 0.9829\n"
     ]
    }
   ],
   "source": [
    "# train the network\n",
    "print(\"[INFO] training network...\")\n",
    "H = model.fit(trainX, trainY, validation_data=(testX, testY),\n",
    "\tbatch_size=128, epochs=20, verbose=1)"
   ]
  },
  {
   "cell_type": "markdown",
   "metadata": {},
   "source": [
    "And then evaluate it on our testing set:"
   ]
  },
  {
   "cell_type": "code",
   "execution_count": 27,
   "metadata": {},
   "outputs": [
    {
     "name": "stdout",
     "output_type": "stream",
     "text": [
      "[INFO] evaluating network...\n",
      "             precision    recall  f1-score   support\n",
      "\n",
      "          0       0.98      0.99      0.99      1677\n",
      "          1       0.99      0.99      0.99      1935\n",
      "          2       0.99      0.99      0.99      1767\n",
      "          3       0.96      0.99      0.97      1766\n",
      "          4       0.99      0.98      0.99      1691\n",
      "          5       0.99      0.97      0.98      1653\n",
      "          6       0.99      0.99      0.99      1754\n",
      "          7       0.97      0.99      0.98      1846\n",
      "          8       0.98      0.97      0.97      1702\n",
      "          9       0.97      0.97      0.97      1709\n",
      "\n",
      "avg / total       0.98      0.98      0.98     17500\n",
      "\n"
     ]
    }
   ],
   "source": [
    "# evaluate the network\n",
    "print(\"[INFO] evaluating network...\")\n",
    "predictions = model.predict(testX, batch_size=128)\n",
    "print(classification_report(testY.argmax(axis=1),\n",
    "\tpredictions.argmax(axis=1),\n",
    "\ttarget_names=[str(x) for x in le.classes_]))"
   ]
  },
  {
   "cell_type": "markdown",
   "metadata": {},
   "source": [
    "Finally, let's plot the training loss and accuracy:"
   ]
  },
  {
   "cell_type": "code",
   "execution_count": 28,
   "metadata": {},
   "outputs": [
    {
     "data": {
      "image/png": "[encoded data removed]",
      "text/plain": [
       "<matplotlib.figure.Figure at 0x7fbde1db9208>"
      ]
     },
     "metadata": {},
     "output_type": "display_data"
    }
   ],
   "source": [
    "# plot the training loss and accuracy\n",
    "plt.style.use(\"ggplot\")\n",
    "plt.figure()\n",
    "plt.plot(np.arange(0, 20), H.history[\"loss\"], label=\"train_loss\")\n",
    "plt.plot(np.arange(0, 20), H.history[\"val_loss\"], label=\"val_loss\")\n",
    "plt.plot(np.arange(0, 20), H.history[\"acc\"], label=\"train_acc\")\n",
    "plt.plot(np.arange(0, 20), H.history[\"val_acc\"], label=\"val_acc\")\n",
    "plt.title(\"Training Loss and Accuracy\")\n",
    "plt.xlabel(\"Epoch #\")\n",
    "plt.ylabel(\"Loss/Accuracy\")\n",
    "plt.legend()\n",
    "plt.show()"
   ]
  },
  {
   "cell_type": "markdown",
   "metadata": {},
   "source": [
    "I hope you enjoyed this tutorial!\n",
    "\n",
    "If you're interested in studying deep learning applied to computer visions in more depth, be sure to take a look at my book, [*Deep Learning for Computer Vision with Python*](https://www.pyimagesearch.com/deep-learning-computer-vision-python-book/)."
   ]
  },
  {
   "cell_type": "code",
   "execution_count": null,
   "metadata": {
    "collapsed": true
   },
   "outputs": [],
   "source": []
  }
 ],
 "metadata": {
  "kernelspec": {
   "display_name": "Python 3",
   "language": "python",
   "name": "python3"
  },
  "language_info": {
   "codemirror_mode": {
    "name": "ipython",
    "version": 3
   },
   "file_extension": ".py",
   "mimetype": "text/x-python",
   "name": "python",
   "nbconvert_exporter": "python",
   "pygments_lexer": "ipython3",
   "version": "3.5.2"
  }
 },
 "nbformat": 4,
 "nbformat_minor": 2
}
