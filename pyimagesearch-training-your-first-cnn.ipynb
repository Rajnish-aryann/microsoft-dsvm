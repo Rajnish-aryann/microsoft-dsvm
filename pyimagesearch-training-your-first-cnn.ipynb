{
 "cells": [
  {
   "cell_type": "markdown",
   "metadata": {},
   "source": [
    "**Title:** Training your first Convolutional Neural Network<br/>\n",
    "**Author:** Adrian Rosebrock, [PyImageSearch.com](https://www.pyimagesearch.com/)<br/>\n",
    "\n",
    "This tutorial is meant to be an *introduction* to image classification and deep learning using the [Microsoft Data Science Virtual Machine](https://azure.microsoft.com/en-us/services/virtual-machines/data-science-virtual-machines/). We will present all code necessary to run the example, but will only briefly discuss it.\n",
    "\n",
    "For an in-depth treatment of deep learning and Convolutional Neural Networks, please refer to [*Deep Learning for Computer Vision with Python*](https://www.pyimagesearch.com/deep-learning-computer-vision-python-book/).\n",
    "\n",
    "Let's go ahead and get started."
   ]
  },
  {
   "cell_type": "code",
   "execution_count": 1,
   "metadata": {},
   "outputs": [
    {
     "name": "stderr",
     "output_type": "stream",
     "text": [
      "Using TensorFlow backend.\n"
     ]
    }
   ],
   "source": [
    "# import the necessary packages\n",
    "from keras.models import Sequential\n",
    "from keras.layers.convolutional import Conv2D\n",
    "from keras.layers.convolutional import MaxPooling2D\n",
    "from keras.layers.core import Activation\n",
    "from keras.layers.core import Flatten\n",
    "from keras.layers.core import Dense\n",
    "from keras import backend as K\n",
    "\n",
    "class LeNet:\n",
    "\t@staticmethod\n",
    "\tdef build(width, height, depth, classes):\n",
    "\t\t# initialize the model\n",
    "\t\tmodel = Sequential()\n",
    "\t\tinputShape = (height, width, depth)\n",
    "\n",
    "\t\t# if we are using \"channels first\", update the input shape\n",
    "\t\tif K.image_data_format() == \"channels_first\":\n",
    "\t\t\tinputShape = (depth, height, width)\n",
    "            \n",
    "\t\t# first set of CONV => RELU => POOL layers\n",
    "\t\tmodel.add(Conv2D(20, (5, 5), padding=\"same\",\n",
    "\t\t\tinput_shape=inputShape))\n",
    "\t\tmodel.add(Activation(\"relu\"))\n",
    "\t\tmodel.add(MaxPooling2D(pool_size=(2, 2), strides=(2, 2)))\n",
    "        \n",
    "\t\t# second set of CONV => RELU => POOL layers\n",
    "\t\tmodel.add(Conv2D(50, (5, 5), padding=\"same\"))\n",
    "\t\tmodel.add(Activation(\"relu\"))\n",
    "\t\tmodel.add(MaxPooling2D(pool_size=(2, 2), strides=(2, 2)))\n",
    "        \n",
    "\t\t# first (and only) set of FC => RELU layers\n",
    "\t\tmodel.add(Flatten())\n",
    "\t\tmodel.add(Dense(500))\n",
    "\t\tmodel.add(Activation(\"relu\"))\n",
    "\n",
    "\t\t# softmax classifier\n",
    "\t\tmodel.add(Dense(classes))\n",
    "\t\tmodel.add(Activation(\"softmax\"))\n",
    "\n",
    "\t\t# return the constructed network architecture\n",
    "\t\treturn model"
   ]
  },
  {
   "cell_type": "markdown",
   "metadata": {},
   "source": [
    "The `LeNet` class will encapsulate our implementation. The `build` method will then handle constructing the CNN. We also take special care to define the `inputShape` based on whether we are using channels-last ordering (typically used with TensorFlow) or channels-first ordering (which Theano uses).\n",
    "\n",
    "We then define our first set of `CONV => RELU => POOL` layers. Here we learn 20 convolution filters, each of which are *5x5*. We then apply a ReLU activation followed by *2x2* max-pooling to reduce the spatial dimensions.\n",
    "\n",
    "A similar process is then used for our second set of `CONV => RELU => POOL` layers, this time learning 50 filters instead of 20.\n",
    "\n",
    "Our final layer set in the LeNet implementation handles flattening out the volume into a set of fully-connected layers and output predictions.\n",
    "\n",
    "Let's move on to training our network. First, let's handle our imports and download the MNIST dataset (a collection of 70,000 28x28 grayscale images):"
   ]
  },
  {
   "cell_type": "code",
   "execution_count": 2,
   "metadata": {},
   "outputs": [
    {
     "name": "stdout",
     "output_type": "stream",
     "text": [
      "[INFO] accessing MNIST...\n"
     ]
    }
   ],
   "source": [
    "# import the necessary packages\n",
    "from keras.optimizers import SGD\n",
    "from sklearn.preprocessing import LabelBinarizer\n",
    "from sklearn.model_selection import train_test_split\n",
    "from sklearn.metrics import classification_report\n",
    "from sklearn import datasets\n",
    "from keras import backend as K\n",
    "import matplotlib.pyplot as plt\n",
    "import numpy as np\n",
    "\n",
    "# grab the MNIST dataset (if this is your first time using this\n",
    "# dataset then the 55MB download may take a minute)\n",
    "print(\"[INFO] accessing MNIST...\")\n",
    "dataset = datasets.fetch_mldata(\"MNIST Original\")\n",
    "data = dataset.data"
   ]
  },
  {
   "cell_type": "markdown",
   "metadata": {},
   "source": [
    "Our goal here is to train a Convolutional Neural Network that can recognize each of the handwritten digits, 0-9.\n",
    "\n",
    "We then need to reshape the `data` matrix based on whether we are using channels-last or channels first-ordering:"
   ]
  },
  {
   "cell_type": "code",
   "execution_count": 3,
   "metadata": {
    "collapsed": true
   },
   "outputs": [],
   "source": [
    "# if we are using \"channels first\" ordering, then reshape the\n",
    "# design matrix such that the matrix is:\n",
    "# num_samples x depth x rows x columns\n",
    "if K.image_data_format() == \"channels_first\":\n",
    "\tdata = data.reshape(data.shape[0], 1, 28, 28)\n",
    "\n",
    "# otherwise, we are using \"channels last\" ordering, so the design\n",
    "# matrix shape should be: num_samples x rows x columns x depth\n",
    "else:\n",
    "\tdata = data.reshape(data.shape[0], 28, 28, 1)"
   ]
  },
  {
   "cell_type": "markdown",
   "metadata": {},
   "source": [
    "Create the training and testing split:"
   ]
  },
  {
   "cell_type": "code",
   "execution_count": 4,
   "metadata": {
    "collapsed": true
   },
   "outputs": [],
   "source": [
    "# scale the input data to the range [0, 1] and perform a train/test\n",
    "# split\n",
    "(trainX, testX, trainY, testY) = train_test_split(data / 255.0,\n",
    "\tdataset.target.astype(\"int\"), test_size=0.25, random_state=42)"
   ]
  },
  {
   "cell_type": "markdown",
   "metadata": {},
   "source": [
    "And then binarize the labels:"
   ]
  },
  {
   "cell_type": "code",
   "execution_count": 5,
   "metadata": {
    "collapsed": true
   },
   "outputs": [],
   "source": [
    "# convert the labels from integers to vectors\n",
    "le = LabelBinarizer()\n",
    "trainY = le.fit_transform(trainY)\n",
    "testY = le.transform(testY)"
   ]
  },
  {
   "cell_type": "markdown",
   "metadata": {},
   "source": [
    "We are now ready to instantiate the `LeNet` class:"
   ]
  },
  {
   "cell_type": "code",
   "execution_count": 6,
   "metadata": {},
   "outputs": [
    {
     "name": "stdout",
     "output_type": "stream",
     "text": [
      "[INFO] compiling model...\n"
     ]
    }
   ],
   "source": [
    "# initialize the optimizer and model\n",
    "print(\"[INFO] compiling model...\")\n",
    "opt = SGD(lr=0.01)\n",
    "model = LeNet.build(width=28, height=28, depth=1, classes=10)\n",
    "model.compile(loss=\"categorical_crossentropy\", optimizer=opt,\n",
    "\tmetrics=[\"accuracy\"])"
   ]
  },
  {
   "cell_type": "markdown",
   "metadata": {},
   "source": [
    "Notice how the parameters to `LeNet.build` match the spatial dimensions of the images in the MNIST dataset.\n",
    "\n",
    "We'll be using the Stochastic Gradient Descent (SGD) optimizer for this task. Using `categorical_crossentropy` is common for multi-class classification problems.\n",
    "\n",
    "We can now train our network for 20 epochs using a batch size of 128:"
   ]
  },
  {
   "cell_type": "code",
   "execution_count": 7,
   "metadata": {},
   "outputs": [
    {
     "name": "stdout",
     "output_type": "stream",
     "text": [
      "[INFO] training network...\n",
      "Train on 52500 samples, validate on 17500 samples\n",
      "Epoch 1/20\n",
      "52500/52500 [==============================] - 8s 159us/step - loss: 1.0553 - acc: 0.7207 - val_loss: 0.5673 - val_acc: 0.8083\n",
      "Epoch 2/20\n",
      "52500/52500 [==============================] - 7s 124us/step - loss: 0.2861 - acc: 0.9146 - val_loss: 0.2793 - val_acc: 0.9150\n",
      "Epoch 3/20\n",
      "52500/52500 [==============================] - 7s 126us/step - loss: 0.2059 - acc: 0.9385 - val_loss: 0.3395 - val_acc: 0.8856\n",
      "Epoch 4/20\n",
      "52500/52500 [==============================] - 7s 129us/step - loss: 0.1626 - acc: 0.9519 - val_loss: 0.3899 - val_acc: 0.8765\n",
      "Epoch 5/20\n",
      "52500/52500 [==============================] - 7s 126us/step - loss: 0.1348 - acc: 0.9596 - val_loss: 0.1283 - val_acc: 0.9617\n",
      "Epoch 6/20\n",
      "52500/52500 [==============================] - 7s 127us/step - loss: 0.1148 - acc: 0.9659 - val_loss: 0.1775 - val_acc: 0.9444\n",
      "Epoch 7/20\n",
      "52500/52500 [==============================] - 7s 130us/step - loss: 0.1012 - acc: 0.9698 - val_loss: 0.1077 - val_acc: 0.9667\n",
      "Epoch 8/20\n",
      "52500/52500 [==============================] - 7s 128us/step - loss: 0.0912 - acc: 0.9720 - val_loss: 0.1718 - val_acc: 0.9415\n",
      "Epoch 9/20\n",
      "52500/52500 [==============================] - 7s 128us/step - loss: 0.0817 - acc: 0.9759 - val_loss: 0.0925 - val_acc: 0.9711\n",
      "Epoch 10/20\n",
      "52500/52500 [==============================] - 7s 128us/step - loss: 0.0755 - acc: 0.9775 - val_loss: 0.0780 - val_acc: 0.9765\n",
      "Epoch 11/20\n",
      "52500/52500 [==============================] - 7s 127us/step - loss: 0.0689 - acc: 0.9789 - val_loss: 0.4633 - val_acc: 0.8604\n",
      "Epoch 12/20\n",
      "52500/52500 [==============================] - 7s 129us/step - loss: 0.0668 - acc: 0.9794 - val_loss: 0.0732 - val_acc: 0.9783\n",
      "Epoch 13/20\n",
      "52500/52500 [==============================] - 7s 127us/step - loss: 0.0606 - acc: 0.9814 - val_loss: 0.0685 - val_acc: 0.9803\n",
      "Epoch 14/20\n",
      "52500/52500 [==============================] - 7s 129us/step - loss: 0.0568 - acc: 0.9824 - val_loss: 0.0831 - val_acc: 0.9741\n",
      "Epoch 15/20\n",
      "52500/52500 [==============================] - 7s 128us/step - loss: 0.0541 - acc: 0.9837 - val_loss: 0.0707 - val_acc: 0.9776\n",
      "Epoch 16/20\n",
      "52500/52500 [==============================] - 7s 128us/step - loss: 0.0510 - acc: 0.9844 - val_loss: 0.0595 - val_acc: 0.9829\n",
      "Epoch 17/20\n",
      "52500/52500 [==============================] - 7s 129us/step - loss: 0.0485 - acc: 0.9849 - val_loss: 0.0580 - val_acc: 0.9837\n",
      "Epoch 18/20\n",
      "52500/52500 [==============================] - 7s 131us/step - loss: 0.0463 - acc: 0.9861 - val_loss: 0.0683 - val_acc: 0.9790\n",
      "Epoch 19/20\n",
      "52500/52500 [==============================] - 7s 129us/step - loss: 0.0440 - acc: 0.9867 - val_loss: 0.0553 - val_acc: 0.9838\n",
      "Epoch 20/20\n",
      "52500/52500 [==============================] - 7s 130us/step - loss: 0.0420 - acc: 0.9871 - val_loss: 0.0569 - val_acc: 0.9821\n"
     ]
    }
   ],
   "source": [
    "# train the network\n",
    "print(\"[INFO] training network...\")\n",
    "H = model.fit(trainX, trainY, validation_data=(testX, testY),\n",
    "\tbatch_size=128, epochs=20, verbose=1)"
   ]
  },
  {
   "cell_type": "markdown",
   "metadata": {},
   "source": [
    "And then evaluate it on our testing set:"
   ]
  },
  {
   "cell_type": "code",
   "execution_count": 8,
   "metadata": {},
   "outputs": [
    {
     "name": "stdout",
     "output_type": "stream",
     "text": [
      "[INFO] evaluating network...\n",
      "             precision    recall  f1-score   support\n",
      "\n",
      "          0       0.99      0.99      0.99      1677\n",
      "          1       0.98      1.00      0.99      1935\n",
      "          2       0.99      0.98      0.98      1767\n",
      "          3       0.98      0.98      0.98      1766\n",
      "          4       0.98      0.99      0.99      1691\n",
      "          5       0.96      0.99      0.97      1653\n",
      "          6       1.00      0.98      0.99      1754\n",
      "          7       0.98      0.99      0.98      1846\n",
      "          8       0.99      0.96      0.97      1702\n",
      "          9       0.98      0.96      0.97      1709\n",
      "\n",
      "avg / total       0.98      0.98      0.98     17500\n",
      "\n"
     ]
    }
   ],
   "source": [
    "# evaluate the network\n",
    "print(\"[INFO] evaluating network...\")\n",
    "predictions = model.predict(testX, batch_size=128)\n",
    "print(classification_report(testY.argmax(axis=1),\n",
    "\tpredictions.argmax(axis=1),\n",
    "\ttarget_names=[str(x) for x in le.classes_]))"
   ]
  },
  {
   "cell_type": "markdown",
   "metadata": {},
   "source": [
    "Finally, let's plot the training loss and accuracy:"
   ]
  },
  {
   "cell_type": "code",
   "execution_count": 9,
   "metadata": {},
   "outputs": [
    {
     "data": {
      "image/png": "[encoded data removed]",
      "text/plain": [
       "<matplotlib.figure.Figure at 0x7f36841d1208>"
      ]
     },
     "metadata": {},
     "output_type": "display_data"
    }
   ],
   "source": [
    "# plot the training loss and accuracy\n",
    "plt.style.use(\"ggplot\")\n",
    "plt.figure()\n",
    "plt.plot(np.arange(0, 20), H.history[\"loss\"], label=\"train_loss\")\n",
    "plt.plot(np.arange(0, 20), H.history[\"val_loss\"], label=\"val_loss\")\n",
    "plt.plot(np.arange(0, 20), H.history[\"acc\"], label=\"train_acc\")\n",
    "plt.plot(np.arange(0, 20), H.history[\"val_acc\"], label=\"val_acc\")\n",
    "plt.title(\"Training Loss and Accuracy\")\n",
    "plt.xlabel(\"Epoch #\")\n",
    "plt.ylabel(\"Loss/Accuracy\")\n",
    "plt.legend()\n",
    "plt.show()"
   ]
  },
  {
   "cell_type": "markdown",
   "metadata": {},
   "source": [
    "I hope you enjoyed this tutorial!\n",
    "\n",
    "If you're interested in studying deep learning applied to computer visions in more depth, be sure to take a look at my book, [*Deep Learning for Computer Vision with Python*](https://www.pyimagesearch.com/deep-learning-computer-vision-python-book/)."
   ]
  },
  {
   "cell_type": "code",
   "execution_count": null,
   "metadata": {
    "collapsed": true
   },
   "outputs": [],
   "source": []
  }
 ],
 "metadata": {
  "kernelspec": {
   "display_name": "Python 3",
   "language": "python",
   "name": "python3"
  },
  "language_info": {
   "codemirror_mode": {
    "name": "ipython",
    "version": 3
   },
   "file_extension": ".py",
   "mimetype": "text/x-python",
   "name": "python",
   "nbconvert_exporter": "python",
   "pygments_lexer": "ipython3",
   "version": "3.5.2"
  }
 },
 "nbformat": 4,
 "nbformat_minor": 2
}
