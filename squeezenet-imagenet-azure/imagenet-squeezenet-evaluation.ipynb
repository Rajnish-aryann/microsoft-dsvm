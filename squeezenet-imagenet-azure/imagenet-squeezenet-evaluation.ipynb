{
 "cells": [
  {
   "cell_type": "markdown",
   "metadata": {},
   "source": [
    "**Title:** Training state-of-the-art neural networks in the Microsoft Azure cloud<br/>\n",
    "**Author:** Adrian Rosebrock, [PyImageSearch.com](https://www.pyimagesearch.com/)\n",
    "\n",
    "The code associated with this notebook is part of my book, [*Deep Learning for Computer Vision with Python*](https://www.pyimagesearch.com/deep-learning-computer-vision-python-book/) where I demonstrate how to replicate state-of-the-art deep learning results on the large, 1.2+ million image ImageNet dataset. To learn more, please refer to the [book page](https://www.pyimagesearch.com/deep-learning-computer-vision-python-book/)."
   ]
  },
  {
   "cell_type": "code",
   "execution_count": 1,
   "metadata": {
    "collapsed": true
   },
   "outputs": [],
   "source": [
    "# import the necessary packages\n",
    "from config import imagenet_squeezenet_config as config\n",
    "import mxnet as mx\n",
    "import json\n",
    "import os\n",
    "\n",
    "# initialize an arguments dictionary (used to replace argument parsing but\n",
    "# keep the same code base)\n",
    "args = {\n",
    "    \"checkpoints\": \"checkpoints\",\n",
    "    \"prefix\": \"squeezenet\",\n",
    "    \"epoch\": 80\n",
    "}"
   ]
  },
  {
   "cell_type": "code",
   "execution_count": 2,
   "metadata": {
    "collapsed": true
   },
   "outputs": [],
   "source": [
    "# load the RGB means for the training set\n",
    "means = json.loads(open(config.DATASET_MEAN).read())\n",
    "\n",
    "# construct the testing image iterator\n",
    "testIter = mx.io.ImageRecordIter(\n",
    "    path_imgrec=config.TEST_MX_REC,\n",
    "    data_shape=(3, 227, 227),\n",
    "    batch_size=config.BATCH_SIZE,\n",
    "    mean_r=means[\"R\"],\n",
    "    mean_g=means[\"G\"],\n",
    "    mean_b=means[\"B\"])"
   ]
  },
  {
   "cell_type": "code",
   "execution_count": 3,
   "metadata": {},
   "outputs": [
    {
     "name": "stdout",
     "output_type": "stream",
     "text": [
      "[INFO] loading model...\n",
      "CPU times: user 9.69 ms, sys: 0 ns, total: 9.69 ms\n",
      "Wall time: 8.35 ms\n"
     ]
    },
    {
     "name": "stderr",
     "output_type": "stream",
     "text": [
      "/anaconda/envs/py35/lib/python3.5/site-packages/mxnet-0.12.0-py3.5.egg/mxnet/model.py:901: DeprecationWarning: \u001b[91mmxnet.model.FeedForward has been deprecated. Please use mxnet.mod.Module instead.\u001b[0m\n",
      "  **kwargs)\n"
     ]
    }
   ],
   "source": [
    "%%time\n",
    "# load the checkpoint from disk\n",
    "print(\"[INFO] loading model...\")\n",
    "checkpointsPath = os.path.sep.join([args[\"checkpoints\"],\n",
    "    args[\"prefix\"]])\n",
    "model = mx.model.FeedForward.load(checkpointsPath,\n",
    "    args[\"epoch\"])"
   ]
  },
  {
   "cell_type": "code",
   "execution_count": 4,
   "metadata": {},
   "outputs": [
    {
     "name": "stderr",
     "output_type": "stream",
     "text": [
      "/anaconda/envs/py35/lib/python3.5/site-packages/ipykernel_launcher.py:6: DeprecationWarning: \u001b[91mmxnet.model.FeedForward has been deprecated. Please use mxnet.mod.Module instead.\u001b[0m\n",
      "  \n"
     ]
    },
    {
     "name": "stdout",
     "output_type": "stream",
     "text": [
      "[INFO] predicting on test data...\n",
      "[INFO] rank-1: 56.86%\n",
      "[INFO] rank-5: 79.38%\n",
      "CPU times: user 5min 7s, sys: 33.8 s, total: 5min 40s\n",
      "Wall time: 2min 21s\n"
     ]
    }
   ],
   "source": [
    "%%time\n",
    "# compile the model\n",
    "model = mx.model.FeedForward(\n",
    "    ctx=[mx.gpu(0)],\n",
    "    symbol=model.symbol,\n",
    "    arg_params=model.arg_params,\n",
    "    aux_params=model.aux_params)\n",
    "\n",
    "# make predictions on the testing data\n",
    "print(\"[INFO] predicting on test data...\")\n",
    "metrics = [mx.metric.Accuracy(), mx.metric.TopKAccuracy(top_k=5)]\n",
    "(rank1, rank5) = model.score(testIter, eval_metric=metrics)\n",
    "\n",
    "# display the rank-1 and rank-5 accuracies\n",
    "print(\"[INFO] rank-1: {:.2f}%\".format(rank1 * 100))\n",
    "print(\"[INFO] rank-5: {:.2f}%\".format(rank5 * 100))"
   ]
  },
  {
   "cell_type": "code",
   "execution_count": null,
   "metadata": {
    "collapsed": true
   },
   "outputs": [],
   "source": []
  }
 ],
 "metadata": {
  "kernelspec": {
   "display_name": "Python 3",
   "language": "python",
   "name": "python3"
  },
  "language_info": {
   "codemirror_mode": {
    "name": "ipython",
    "version": 3
   },
   "file_extension": ".py",
   "mimetype": "text/x-python",
   "name": "python",
   "nbconvert_exporter": "python",
   "pygments_lexer": "ipython3",
   "version": "3.5.2"
  }
 },
 "nbformat": 4,
 "nbformat_minor": 2
}
